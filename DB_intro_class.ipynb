{
  "nbformat": 4,
  "nbformat_minor": 0,
  "metadata": {
    "colab": {
      "provenance": []
    },
    "kernelspec": {
      "name": "python3",
      "display_name": "Python 3"
    },
    "language_info": {
      "name": "python"
    }
  },
  "cells": [
    {
      "cell_type": "markdown",
      "source": [
        "## Виды SQL запросов  \n",
        "- Data Definition Language (DDL): создание/удаление таблиц, изменение структуры БД.  \n",
        "- Data Manipulation Language (DML): добавление, изменение, извлечение данных из БД.  \n",
        "- Data Control Language (DCL): управление правами доступа.\n",
        "- Transaction Control Language (TCL): управление транзакциями*.\n",
        "\n",
        "*Транзакция - логическая единица работы с данными. Цель существования - обеспечение целостности данных.   \n",
        "В случае неудачи, все изменения в пределах транзакции \"откатываются\"."
      ],
      "metadata": {
        "id": "DzrIs59uzknU"
      }
    },
    {
      "cell_type": "markdown",
      "source": [
        "## sqlite3. Начало работы.\n",
        "СУБД SQLite отличается от других СУБД возможностью её использования \"из коробки\". SQLite не требует отдельно запускаемый сервер, а сама БД сохраняется в файл, который затем можно использовать на любой платформе.  \n",
        "\n",
        "Библиотека [sqlite3](https://docs.python.org/3/library/sqlite3.html) языка Python предлагает функционал для работы с SQLite."
      ],
      "metadata": {
        "id": "EkAXFY7V2kPj"
      }
    },
    {
      "cell_type": "code",
      "execution_count": null,
      "metadata": {
        "id": "uCUQ1afFwtcX"
      },
      "outputs": [],
      "source": [
        "import sqlite3"
      ]
    },
    {
      "cell_type": "code",
      "source": [
        "# Соединение (connection) с базой на диске\n",
        "conn = sqlite3.connect(\"best_db_ever.db\")\n",
        "type(conn)"
      ],
      "metadata": {
        "colab": {
          "base_uri": "https://localhost:8080/"
        },
        "id": "Jy0KmQMI4ltk",
        "outputId": "0027ffa6-7c5a-466d-b2fc-e1aa74e7aedd"
      },
      "execution_count": null,
      "outputs": [
        {
          "output_type": "execute_result",
          "data": {
            "text/plain": [
              "sqlite3.Connection"
            ]
          },
          "metadata": {},
          "execution_count": 2
        }
      ]
    },
    {
      "cell_type": "code",
      "source": [
        "# Курсор (cursor) используется для выполнения SQL-инструкций и получения результатов SQL-запросов\n",
        "cur = conn.cursor()"
      ],
      "metadata": {
        "id": "jrZ5iFZb4wJv"
      },
      "execution_count": null,
      "outputs": []
    },
    {
      "cell_type": "code",
      "source": [
        "# Создадим таблицу movie. Указание типов данных для столбцов в SQLite не является обязательным\n",
        "# Подробнее https://www.sqlite.org/flextypegood.html \n",
        "cur.execute(\"CREATE TABLE movie(title, year, score)\")"
      ],
      "metadata": {
        "colab": {
          "base_uri": "https://localhost:8080/"
        },
        "id": "l2cqIIGELT5q",
        "outputId": "637825ab-b3ea-4647-f717-790c83373e8c"
      },
      "execution_count": null,
      "outputs": [
        {
          "output_type": "execute_result",
          "data": {
            "text/plain": [
              "<sqlite3.Cursor at 0x7f4e60174420>"
            ]
          },
          "metadata": {},
          "execution_count": 4
        }
      ]
    },
    {
      "cell_type": "markdown",
      "source": [
        "Можно проверить, что таблица действительно создалась.  \n",
        "SQLite имеет [встроенную таблицу](https://www.sqlite.org/schematab.html), хранящую схему всех имеющихся в БД таблиц"
      ],
      "metadata": {
        "id": "CGqy1sVpNS_p"
      }
    },
    {
      "cell_type": "code",
      "source": [
        "res = cur.execute(\"SELECT name FROM sqlite_master\")\n",
        "res.fetchone()"
      ],
      "metadata": {
        "colab": {
          "base_uri": "https://localhost:8080/"
        },
        "id": "K6LfpLjvMmG3",
        "outputId": "c9ed6f84-3a99-4693-b3a9-6b99cc80822e"
      },
      "execution_count": null,
      "outputs": [
        {
          "output_type": "execute_result",
          "data": {
            "text/plain": [
              "('movie',)"
            ]
          },
          "metadata": {},
          "execution_count": 5
        }
      ]
    },
    {
      "cell_type": "markdown",
      "source": [
        "Теперь добавим данные в созданную таблицу movie."
      ],
      "metadata": {
        "id": "1i_pvx63PoAm"
      }
    },
    {
      "cell_type": "code",
      "source": [
        "cur.execute(\"\"\"\n",
        "    INSERT INTO movie VALUES\n",
        "        ('Monty Python and the Holy Grail', 1975, 8.2),\n",
        "        ('And Now for Something Completely Different', 1971, 7.5)\n",
        "\"\"\")"
      ],
      "metadata": {
        "colab": {
          "base_uri": "https://localhost:8080/"
        },
        "id": "xfdTgsLjOQ8G",
        "outputId": "b12ef7b4-8350-4f7e-ce43-b965ef436331"
      },
      "execution_count": null,
      "outputs": [
        {
          "output_type": "execute_result",
          "data": {
            "text/plain": [
              "<sqlite3.Cursor at 0x7f4e60174420>"
            ]
          },
          "metadata": {},
          "execution_count": 6
        }
      ]
    },
    {
      "cell_type": "markdown",
      "source": [
        "Можно выполнить предыдущую ячейку несколько раз и посмотреть, к чему это приведет😏"
      ],
      "metadata": {
        "id": "yJQ7AVTuS7qQ"
      }
    },
    {
      "cell_type": "code",
      "source": [
        "cur.execute(\"SELECT rowid, * FROM movie\").fetchall()"
      ],
      "metadata": {
        "colab": {
          "base_uri": "https://localhost:8080/"
        },
        "id": "Qgoc3Vy8Q_iT",
        "outputId": "095a1738-ed8c-4fb5-bbb1-7a6c28713b28"
      },
      "execution_count": null,
      "outputs": [
        {
          "output_type": "execute_result",
          "data": {
            "text/plain": [
              "[(1, 'Monty Python and the Holy Grail', 1975, 8.2),\n",
              " (2, 'And Now for Something Completely Different', 1971, 7.5)]"
            ]
          },
          "metadata": {},
          "execution_count": 8
        }
      ]
    },
    {
      "cell_type": "markdown",
      "source": [
        "Закроем соединение с БД, откроем заново и проверим сохранность изменений"
      ],
      "metadata": {
        "id": "AhKfXDKgSovk"
      }
    },
    {
      "cell_type": "code",
      "source": [
        "conn.close()\n",
        "conn = sqlite3.connect(\"best_db_ever.db\")\n",
        "cur = conn.cursor()"
      ],
      "metadata": {
        "id": "4xjOarENRtEu"
      },
      "execution_count": null,
      "outputs": []
    },
    {
      "cell_type": "code",
      "source": [
        "cur.execute(\"SELECT * FROM movie\").fetchall()"
      ],
      "metadata": {
        "colab": {
          "base_uri": "https://localhost:8080/"
        },
        "id": "aRFTJ1x3TT_S",
        "outputId": "09d84fb7-8aaf-43b9-f530-084c028e717d"
      },
      "execution_count": null,
      "outputs": [
        {
          "output_type": "execute_result",
          "data": {
            "text/plain": [
              "[('Monty Python and the Holy Grail', 1975, 8.2),\n",
              " ('And Now for Something Completely Different', 1971, 7.5)]"
            ]
          },
          "metadata": {},
          "execution_count": 10
        }
      ]
    },
    {
      "cell_type": "markdown",
      "source": [
        "[По умолчанию](https://docs.python.org/3/library/sqlite3.html#sqlite3-controlling-transactions) выполнение запросов INSERT, UPDATE, DELETE и REPLACE *методами execute* и *executemany* - о котором речь впереди - открывает транзакцию, которую требуется закрыть вызовом *commit* или \"откатить\" вызовом *rollback*.  \n",
        "Успешное завершение транзакции приведет к изменениям в БД."
      ],
      "metadata": {
        "id": "8MW4k_BtR1r5"
      }
    },
    {
      "cell_type": "code",
      "source": [
        "conn.commit()"
      ],
      "metadata": {
        "id": "CpQ7Y6rIROgR"
      },
      "execution_count": null,
      "outputs": []
    },
    {
      "cell_type": "markdown",
      "source": [
        "Чтобы не забывать завершать транзакцию, можно пользоваться [менеджером контекста](https://docs.python.org/3/library/sqlite3.html#how-to-use-the-connection-context-manager) sqlite3.Connection и курсор тогда не понадобится."
      ],
      "metadata": {
        "id": "d9Pj9MNeRi8w"
      }
    },
    {
      "cell_type": "code",
      "source": [
        "# Успешное выполнение запроса, con.commit() вызовется автоматически\n",
        "with conn:\n",
        "    conn.execute(\"\"\"INSERT INTO movie VALUES\n",
        "        ('Ирония судьбы, или С лёгким паром!', 1975, 8.2)\n",
        "        \"\"\")\n",
        "    \n",
        "# В случае выброса исключения при выполнении запроса, вызовется con.rollback()\n",
        "try:\n",
        "    with conn:\n",
        "        conn.execute(\"INSERT INTO movie(name) VALUES(?)\", (\"WALL-E\",))\n",
        "except sqlite3.OperationalError:\n",
        "    print(\"Что-то пошло не так, вызов rollback()\")\n",
        "\n",
        "# Соединение должно быть закрыто \"в ручную\".\n",
        "# При использовании менеджер контекста Соединения автоматически выполняется только завершение или откат транзакции.\n",
        "conn.close()"
      ],
      "metadata": {
        "colab": {
          "base_uri": "https://localhost:8080/"
        },
        "id": "RoMMrQgFRinY",
        "outputId": "3c2a8ac5-8ede-4b03-a212-244a2994956a"
      },
      "execution_count": null,
      "outputs": [
        {
          "output_type": "stream",
          "name": "stdout",
          "text": [
            "Что-то пошло не так, вызов rollback()\n"
          ]
        }
      ]
    },
    {
      "cell_type": "markdown",
      "source": [
        "Откроем соединение вновь и проверим изменения."
      ],
      "metadata": {
        "id": "bqkUCNmxczFT"
      }
    },
    {
      "cell_type": "code",
      "source": [
        "conn = sqlite3.connect(\"best_db_ever.db\")"
      ],
      "metadata": {
        "id": "Ajbfj04PbCUU"
      },
      "execution_count": null,
      "outputs": []
    },
    {
      "cell_type": "code",
      "source": [
        "with conn:\n",
        "  print(conn.execute('''SELECT title FROM movie \n",
        "                        WHERE score > 8.0\n",
        "                     ''').fetchall())\n",
        "  print(conn.execute('''SELECT * FROM movie\n",
        "                        WHERE title = \"WALL-E\"\n",
        "                     ''').fetchall())"
      ],
      "metadata": {
        "colab": {
          "base_uri": "https://localhost:8080/"
        },
        "id": "VVpEuqMjazSQ",
        "outputId": "411b863a-5a26-41ef-c52c-08b063d58daf"
      },
      "execution_count": null,
      "outputs": [
        {
          "output_type": "stream",
          "name": "stdout",
          "text": [
            "[('Monty Python and the Holy Grail',), ('Ирония судьбы, или С лёгким паром!',)]\n",
            "[]\n"
          ]
        }
      ]
    },
    {
      "cell_type": "markdown",
      "source": [
        "Для запроса SELECT нет автоматического открытия транзакции. При выходе за пределы менеджера контекста завершение транзакции не вызовется."
      ],
      "metadata": {
        "id": "HsOjlhWpgs_m"
      }
    },
    {
      "cell_type": "markdown",
      "source": [
        "### Подстановка значений и множественное выполнение запроса  \n",
        "Подробнее о [безопасной подстановке](https://docs.python.org/3/library/sqlite3.html#sqlite3-placeholders)."
      ],
      "metadata": {
        "id": "DaiiJwtZeo9r"
      }
    },
    {
      "cell_type": "code",
      "source": [
        "data = [\n",
        "    (\"Monty Python Live at the Hollywood Bowl\", 1982, 7.9),\n",
        "    (\"Monty Python's The Meaning of Life\", 1983, 7.5),\n",
        "    (\"Monty Python's Life of Brian\", 1979, 8.0),\n",
        "]\n",
        "with conn:\n",
        "  conn.executemany(\"INSERT INTO movie VALUES(?, ?, ?)\", data)"
      ],
      "metadata": {
        "id": "0se6c6xufIS_"
      },
      "execution_count": null,
      "outputs": []
    },
    {
      "cell_type": "code",
      "source": [
        "for row in conn.execute('''SELECT title, year FROM movie \n",
        "                        WHERE title LIKE 'Monty Python%'\n",
        "                     '''):\n",
        "  print('Найден:', row, sep='\\t')"
      ],
      "metadata": {
        "colab": {
          "base_uri": "https://localhost:8080/"
        },
        "id": "qjKSwRZGgdVh",
        "outputId": "55b7f1ae-3841-4024-a554-055c0d6a85e1"
      },
      "execution_count": null,
      "outputs": [
        {
          "output_type": "stream",
          "name": "stdout",
          "text": [
            "Найден:\t('Monty Python and the Holy Grail', 1975)\n",
            "Найден:\t('Monty Python Live at the Hollywood Bowl', 1982)\n",
            "Найден:\t(\"Monty Python's The Meaning of Life\", 1983)\n",
            "Найден:\t(\"Monty Python's Life of Brian\", 1979)\n"
          ]
        }
      ]
    },
    {
      "cell_type": "markdown",
      "source": [
        "А зачем тогда раньше Курсор создавали, если и так [работает](https://docs.python.org/3/library/sqlite3.html#sqlite3.Connection.execute)?"
      ],
      "metadata": {
        "id": "56-smwe9iuZd"
      }
    },
    {
      "cell_type": "code",
      "source": [
        "conn.close()"
      ],
      "metadata": {
        "id": "OgBUKHdLQS7e"
      },
      "execution_count": null,
      "outputs": []
    },
    {
      "cell_type": "markdown",
      "source": [
        "## SQL-тренажер\n",
        "Задачи на DML запросы разного уровня сложности с сылками на теоретические справки: https://sql-ex.ru/  \n",
        "Требуется регистрация по почте.  \n"
      ],
      "metadata": {
        "id": "HXGkvIJkPcoW"
      }
    },
    {
      "cell_type": "markdown",
      "source": [
        "## ORM \n",
        "ORM (Object-Relational Mapping, объектно-реляционное отображение)  \n",
        "\n",
        "Подход, позволяющий перейти от работы с реляционными БД как набором таблиц к оперированию объектами.  \n",
        "Рассмотрим ORM-библиотеку [peewee](http://docs.peewee-orm.com/en/latest/) на языке Python. "
      ],
      "metadata": {
        "id": "2yAg3fJJHoWU"
      }
    },
    {
      "cell_type": "code",
      "source": [
        "!pip3 install peewee"
      ],
      "metadata": {
        "colab": {
          "base_uri": "https://localhost:8080/"
        },
        "id": "3Yo8hqL74U-2",
        "outputId": "2e91ce1f-fb3d-4d14-d8e3-5600e88e16de"
      },
      "execution_count": 3,
      "outputs": [
        {
          "output_type": "stream",
          "name": "stdout",
          "text": [
            "Looking in indexes: https://pypi.org/simple, https://us-python.pkg.dev/colab-wheels/public/simple/\n",
            "Collecting peewee\n",
            "  Downloading peewee-3.15.4.tar.gz (860 kB)\n",
            "\u001b[K     |████████████████████████████████| 860 kB 5.2 MB/s \n",
            "\u001b[?25hBuilding wheels for collected packages: peewee\n",
            "  Building wheel for peewee (setup.py) ... \u001b[?25l\u001b[?25hdone\n",
            "  Created wheel for peewee: filename=peewee-3.15.4-cp38-cp38-linux_x86_64.whl size=701717 sha256=f300d6a1c6aad748e85f1d2e260f7eca4110d28ec7f828fb56534d580a811ba6\n",
            "  Stored in directory: /root/.cache/pip/wheels/85/86/97/f8cb63cd8062bcb1de3973a30bb2629be75d97a413a620022f\n",
            "Successfully built peewee\n",
            "Installing collected packages: peewee\n",
            "Successfully installed peewee-3.15.4\n"
          ]
        }
      ]
    },
    {
      "cell_type": "markdown",
      "source": [
        "Для вдохновения был взят [проект](https://github.com/idemintsev/Weather-forecast).  \n",
        "Исходные коды модифицированной версии, представленной в данном материале, расположены [здесь](https://github.com/ekuzina/Weather-forecast)."
      ],
      "metadata": {
        "id": "8lZf5632RiQ2"
      }
    },
    {
      "cell_type": "markdown",
      "source": [
        "## database_manager.py"
      ],
      "metadata": {
        "id": "vUZ7aFlLXqwd"
      }
    },
    {
      "cell_type": "code",
      "source": [
        "import peewee\n",
        "from datetime import datetime"
      ],
      "metadata": {
        "id": "lJZqdtwrSJD4"
      },
      "execution_count": 4,
      "outputs": []
    },
    {
      "cell_type": "code",
      "source": [
        "database = peewee.SqliteDatabase('/content/weather_forecast.db')"
      ],
      "metadata": {
        "id": "bLIQH8j2SrBK"
      },
      "execution_count": 5,
      "outputs": []
    },
    {
      "cell_type": "code",
      "source": [
        "class BaseTable(peewee.Model):\n",
        "    class Meta:\n",
        "        database = database\n",
        "\n",
        "class Location(BaseTable):\n",
        "    # автоинкрементный первичный ключи формируется автоматически\n",
        "    location  = peewee.CharField(unique = True)\n",
        "    latitude  = peewee.DoubleField()\n",
        "    longitude = peewee.DoubleField()\n",
        "\n",
        "    # название таблицы формируется автоматически\n",
        "\n",
        "class WeatherForecast(BaseTable):\n",
        "    date = peewee.DateField(unique = True)\n",
        "    weather = peewee.CharField()\n",
        "    temperature_day   = peewee.SmallIntegerField()\n",
        "    temperature_night = peewee.SmallIntegerField()\n",
        "    \n",
        "    location = peewee.ForeignKeyField(Location, to_field='id')"
      ],
      "metadata": {
        "id": "Ce9jMUqsS42_"
      },
      "execution_count": 6,
      "outputs": []
    },
    {
      "cell_type": "code",
      "source": [
        "class DatabaseManager():\n",
        "    #Выполняет запись и чтение из БД.\n",
        "\n",
        "    def __init__(self):\n",
        "        self.hardcode_location()\n",
        "\n",
        "    def hardcode_location(self):\n",
        "        result = (Location\n",
        "          .insert(\n",
        "            location = 'НИЯУ МИФИ (г. Москва)',\n",
        "            latitude = 55.6501703776999,\n",
        "            longitude = 37.66533398689662\n",
        "          )\n",
        "          .on_conflict_ignore()\n",
        "          .execute())        \n",
        "    \n",
        "    # Извлечение местоположения из таблицы Location\n",
        "    def get_location(self):\n",
        "        query = Location.select().where(Location.id == 1).limit(1)\n",
        "        for q in query:\n",
        "            return q.location, q.latitude, q.longitude\n",
        "\n",
        "    # Извлечение местоположения по вторичному ключу (в учебных целях)\n",
        "    def get_location_fk(self):\n",
        "        query = ( Location\n",
        "         .select(Location.location.alias('loc'))\n",
        "         .join(WeatherForecast)\n",
        "         .where(WeatherForecast.location == 1).limit(1)\n",
        "        )\n",
        "        for q in query:\n",
        "            return q.loc\n",
        "\n",
        "    def save(self, data):\n",
        "        result = (WeatherForecast\n",
        "          .insert(\n",
        "            date = data[0],\n",
        "            weather = data[1][0],\n",
        "            temperature_day = data[1][1],\n",
        "            temperature_night = data[1][2],\n",
        "            location = 1\n",
        "          )\n",
        "          .on_conflict_replace()\n",
        "          .execute())\n",
        "\n",
        "    # Проверка корректности формата даты\n",
        "    @staticmethod\n",
        "    def check_date_str(date):\n",
        "        if date:\n",
        "            try:\n",
        "                date = datetime.strptime(date , \"%Y-%m-%d\").date()\n",
        "            except ValueError as err:\n",
        "                date = None\n",
        "        return date\n",
        "\n",
        "    def get_last_day(self):\n",
        "        return WeatherForecast.select(peewee.fn.MAX(WeatherForecast.date)).scalar()\n",
        "    \n",
        "    # Формирование значений граничных дат по умолчанию\n",
        "    def prepare_range(self, _from, _to):\n",
        "        _from = DatabaseManager.check_date_str(_from)\n",
        "        if not _from:\n",
        "            today = datetime.today().date()\n",
        "            _from = today\n",
        "\n",
        "        _to = DatabaseManager.check_date_str(_to)\n",
        "        if not _to:\n",
        "            _to = self.get_last_day()\n",
        "\n",
        "        if _from > _to:\n",
        "            _from, _to = _to, _from\n",
        "\n",
        "        return _from, _to\n",
        "\n",
        "\n",
        "    def get(self, _from = None, _to = None):\n",
        "        _from, _to = self.prepare_range(_from, _to)\n",
        "        res = WeatherForecast.select().where(WeatherForecast.date.between(_from, _to))\n",
        "        return res \n",
        "\n",
        "    def print(self, _from, _to=None):\n",
        "        res = self.get(_from, _to)\n",
        "        for data in res:\n",
        "            print('{0}:\\t{1}. Днем {2:+}*C, ночью {3:+}*C.'\\\n",
        "                .format(data.date.strftime('%Y-%m-%d'), data.weather, data.temperature_day, data.temperature_night))\n"
      ],
      "metadata": {
        "id": "SwGeYh51S8Vq"
      },
      "execution_count": 7,
      "outputs": []
    },
    {
      "cell_type": "markdown",
      "source": [
        "## forecast_engine.py"
      ],
      "metadata": {
        "id": "GG8T-UQvXwM4"
      }
    },
    {
      "cell_type": "code",
      "source": [
        "import requests\n",
        "from bs4 import BeautifulSoup"
      ],
      "metadata": {
        "id": "u_QLyrLVTdiw"
      },
      "execution_count": 8,
      "outputs": []
    },
    {
      "cell_type": "code",
      "source": [
        "class WeatherMaker:\n",
        "\n",
        "    def __init__(self, lat, lon):\n",
        "        self.url = f'https://yandex.com.am/weather/?lat={lat}&lon={lon}'\n",
        "        self.headers = {'user-agent':'Mozilla/5.0 (X11; Linux x86_64) AppleWebKit/537.36 (KHTML, like Gecko) Chrome/104.0.5112.114 YaBrowser/22.9.1.1110 (beta) Yowser/2.5 Safari/537.36'}\n",
        "        self.forecast = {}\n",
        "\n",
        "    # Первый этап парсинг данных с сайта\n",
        "    @staticmethod\n",
        "    def forecast_parse(web_response):\n",
        "        weather_parser = BeautifulSoup(web_response, features='html.parser')\n",
        "\n",
        "        list_of_days = weather_parser.find_all('time', {'class': 'time forecast-briefly__date'})\n",
        "\n",
        "        day_temperature = weather_parser.find_all('div',\n",
        "            {'class': 'temp forecast-briefly__temp forecast-briefly__temp_day'})\n",
        "        \n",
        "        night_temperature = weather_parser.find_all('div',\n",
        "            {'class': 'temp forecast-briefly__temp forecast-briefly__temp_night'})\n",
        "        \n",
        "        atmospheric_precipitation = weather_parser.find_all('div', {'class': 'forecast-briefly__condition'})\n",
        "        \n",
        "        return list_of_days, atmospheric_precipitation, day_temperature, night_temperature\n",
        "\n",
        "    # Второй этап парсинга (очистка полученных данных)\n",
        "    @staticmethod\n",
        "    def forecast_cleanup(day, atmospheric, day_temperature, night_temperature):\n",
        "        day = WeatherMaker.date_cleanup(day)\n",
        "        atmospheric = WeatherMaker.atmospheric_cleanup(atmospheric)\n",
        "        day_temperature = WeatherMaker.temperature_cleanup(day_temperature)\n",
        "        night_temperature = WeatherMaker.temperature_cleanup(night_temperature)\n",
        "        return [day, atmospheric, day_temperature, night_temperature]\n",
        "    \n",
        "    @staticmethod\n",
        "    def atmospheric_cleanup(atmospheric):\n",
        "        return atmospheric.text\n",
        "\n",
        "    @staticmethod\n",
        "    def temperature_cleanup(temperature):\n",
        "        temp = temperature.find('span', {'class': 'temp__value temp__value_with-unit'}).text\n",
        "        # Замена символа для дальнейшего преобразования типов\n",
        "        temp = str(temp).replace(chr(8722), '-')\n",
        "        try:\n",
        "            temp = int(temp)\n",
        "        except Exception as e:\n",
        "            temp = 10000\n",
        "        return temp\n",
        "\n",
        "    @staticmethod\n",
        "    def date_cleanup(day):\n",
        "        date_ = str(day.get('datetime'))[:10]\n",
        "        date_ = datetime.strptime(date_, \"%Y-%m-%d\").date()\n",
        "        return date_\n",
        "\n",
        "    # Запись в словарь прогнозов {дата: [атм. осадки, дневная температура, ночная температура]}\n",
        "    def read(self):\n",
        "        web_response = requests.get(self.url, headers = self.headers)\n",
        "\n",
        "        if web_response.status_code == 200:\n",
        "            list_of_days, atmospheric_precipitation, day_temperature, night_temperature = \\\n",
        "                                                        WeatherMaker.forecast_parse(web_response.text)\n",
        "        else:\n",
        "            print('Bad response status code...')\n",
        "            return\n",
        "        \n",
        "        for day, atmospheric, day_temperature, night_temperature in zip \\\n",
        "                    (list_of_days, atmospheric_precipitation, day_temperature, night_temperature):\n",
        "            forecast_instance = WeatherMaker.forecast_cleanup(day, atmospheric, day_temperature, night_temperature)            \n",
        "            self.forecast[forecast_instance[0]] = forecast_instance[1:]\n",
        "        \n",
        "    def get_last_day(self):\n",
        "        return list(self.forecast.keys())[-1]       \n",
        "\n",
        "    def get_first_day(self):\n",
        "        return list(self.forecast.keys())[0]\n",
        "    \n",
        "    def get_location(self):\n",
        "        return self.location\n",
        "\n",
        "    # Проверка корректности формата даты\n",
        "    @staticmethod\n",
        "    def check_date_str(date): \n",
        "        if date:\n",
        "            try:\n",
        "                date = datetime.strptime(date, \"%Y-%m-%d\").date()\n",
        "            except ValueError as err:\n",
        "                date = None\n",
        "        return date\n",
        "\n",
        "    # Формирование значений граничных дат по умолчанию\n",
        "    def prepare_range(self, _from, _to):\n",
        "        _from = WeatherMaker.check_date_str(_from)\n",
        "        if not _from:\n",
        "            _from = self.get_first_day()\n",
        "        \n",
        "        _to = WeatherMaker.check_date_str(_to)\n",
        "        if not _to:\n",
        "            _to = self.get_last_day()\n",
        "\n",
        "        if _from > _to:\n",
        "            _from, _to = _to, _from            \n",
        "        return _from, _to\n",
        " \n",
        "    def get(self, _from = None, _to = None):\n",
        "        _from, _to = self.prepare_range(_from, _to)            \n",
        "\n",
        "        for _day in self.forecast.keys():\n",
        "            if _from <= _day <= _to:\n",
        "              yield (_day, self.forecast[_day])"
      ],
      "metadata": {
        "id": "Vq96Q4T-XoVo"
      },
      "execution_count": 9,
      "outputs": []
    },
    {
      "cell_type": "markdown",
      "source": [
        "## weather.py"
      ],
      "metadata": {
        "id": "iIFmk-FTYUwf"
      }
    },
    {
      "cell_type": "code",
      "source": [
        "import argparse\n",
        "import time\n",
        "from datetime import datetime, timedelta\n",
        "\n",
        "import atexit"
      ],
      "metadata": {
        "id": "mmLfey6WYReZ"
      },
      "execution_count": 14,
      "outputs": []
    },
    {
      "cell_type": "code",
      "source": [
        "# Закрытие соединения с БД на выходе из приложения\n",
        "@atexit.register\n",
        "def goodbye():\n",
        "    print('Closing DB...')\n",
        "    database.close()"
      ],
      "metadata": {
        "id": "ZZo_9EcKZIQh"
      },
      "execution_count": 15,
      "outputs": []
    },
    {
      "cell_type": "code",
      "source": [
        "if __name__ == '__main__':\n",
        "\n",
        "    # database.connect()\n",
        "    database.create_tables([WeatherForecast, Location])\n",
        "    db_manager = DatabaseManager()\n",
        "\n",
        "    loc, lat, lon = db_manager.get_location()\n",
        "    weather = WeatherMaker(lat, lon)\n",
        "\n",
        "    try:\n",
        "        weather_console = argparse.ArgumentParser(description='Позволяет работать с прогнозом погоды')\n",
        "        \n",
        "        # Регистрация консольных аргументов\n",
        "        weather_console.add_argument(\n",
        "            '--get-loc', type=bool, dest='_loc', default=False,\n",
        "            help='Местоположение по внешнему ключу.'\n",
        "        )\n",
        "\n",
        "        weather_console.add_argument(\n",
        "            '--upd-from', type=str, dest='upd_from', default=None,\n",
        "            help='Дата, с которой надо обновить/дополнить сохраненный в БД прогноз.'\n",
        "                 'Формат 2020-12-31'\n",
        "        )\n",
        "        weather_console.add_argument(\n",
        "            '--upd-to', type=str, default=None, dest='upd_to',\n",
        "            help='Дата, до которой надо обновить/дополнить сохраненный в БД прогноз.'\n",
        "                 'Формат 2020-12-31'\n",
        "        )\n",
        "        weather_console.add_argument(\n",
        "            '--print-from', type=str, dest='print_from', default=None,\n",
        "            help='Дата, начиная с которой надо вывести на консоль прогноз.'\n",
        "                 'Формат 2020-12-31'\n",
        "        )\n",
        "        weather_console.add_argument(\n",
        "            '--print-to', type=str, default=None, dest='print_to',\n",
        "            help='Дата, до которой надо вывести на консоль прогноз.'\n",
        "                 'Формат 2020-12-31'\n",
        "        )\n",
        "\n",
        "        weather_console.add_argument(\n",
        "            '--show-prev', type=int, default=-1, dest='show_prev',\n",
        "            help='Количество архивных дней, за которые нужно вывести на консоль прогноз.'\n",
        "        )\n",
        "\n",
        "        # Обработка переданных агрументов\n",
        "        args = weather_console.parse_args(args = '--get-loc True'.split())\n",
        "\n",
        "        # Логика согласно переданным аргументам\n",
        "        \n",
        "        if args._loc:\n",
        "            print('В БД хранятся прогнозы для', db_manager.get_location_fk())\n",
        "\n",
        "        if args.show_prev >= 0: \n",
        "            today = datetime.today()\n",
        "            first_archived_day = (today - timedelta(days = args.show_prev)).strftime('%Y-%m-%d')\n",
        "            today = today.strftime('%Y-%m-%d')\n",
        "\n",
        "            print(f'\\nПогода над {loc} в последние дни:')\n",
        "            print('*' * 35)        \n",
        "            db_manager.print(_from=first_archived_day, _to=today)\n",
        "            print('*' * 35, '\\n')        \n",
        "\n",
        "        if args.upd_from or args.upd_to:\n",
        "            weather.read()\n",
        "            for val in weather.get(_from = args.upd_from, _to = args.upd_to):\n",
        "                db_manager.save(data = val)\n",
        "                # print(val)\n",
        "\n",
        "        if args.print_from or args.print_to:\n",
        "            print(f'\\nПрогноз погоды над {loc}:')\n",
        "            print('*' * 35)        \n",
        "            db_manager.print(args.print_from, args.print_to)\n",
        "            print('*' * 35, '\\n')        \n",
        "\n",
        "    except Exception as exc:\n",
        "        print(f'Что-то пошло не так: {exc}')"
      ],
      "metadata": {
        "id": "hTuA2ZE9YehN"
      },
      "execution_count": null,
      "outputs": []
    }
  ]
}